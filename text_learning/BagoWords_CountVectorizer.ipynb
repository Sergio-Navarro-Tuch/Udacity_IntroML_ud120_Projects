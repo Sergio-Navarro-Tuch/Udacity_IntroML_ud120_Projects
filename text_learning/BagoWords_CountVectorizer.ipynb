{
 "cells": [
  {
   "cell_type": "code",
   "execution_count": 2,
   "metadata": {},
   "outputs": [
    {
     "name": "stdout",
     "output_type": "stream",
     "text": [
      "bag of words   (0, 0)\t1\n",
      "  (0, 1)\t1\n",
      "  (0, 2)\t1\n",
      "  (0, 4)\t1\n",
      "  (0, 7)\t1\n",
      "  (0, 8)\t1\n",
      "  (0, 9)\t1\n",
      "  (0, 13)\t1\n",
      "  (0, 14)\t1\n",
      "  (0, 15)\t1\n",
      "  (0, 16)\t1\n",
      "  (1, 0)\t1\n",
      "  (1, 1)\t1\n",
      "  (1, 3)\t1\n",
      "  (1, 6)\t3\n",
      "  (1, 7)\t1\n",
      "  (1, 8)\t1\n",
      "  (1, 10)\t1\n",
      "  (1, 11)\t1\n",
      "  (1, 13)\t1\n",
      "  (1, 15)\t1\n",
      "  (1, 16)\t1\n",
      "  (2, 0)\t1\n",
      "  (2, 3)\t1\n",
      "  (2, 5)\t1\n",
      "  (2, 7)\t1\n",
      "  (2, 8)\t1\n",
      "  (2, 10)\t1\n",
      "  (2, 11)\t1\n",
      "  (2, 12)\t1\n",
      "  (2, 15)\t1\n",
      "  (2, 16)\t1\n",
      "6\n"
     ]
    }
   ],
   "source": [
    "from sklearn.feature_extraction.text import CountVectorizer\n",
    "vectorizer=CountVectorizer()\n",
    "string1=\"hi Katie the self driving car will be late Best Sebastian\"\n",
    "string2=\"Hi Sebastian the machine learning class will be great great great Best Katie\"\n",
    "string3=\"Hi Katie the machine learning class will be most excelent\"\n",
    "\n",
    "#Create a list of the strings\n",
    "email_list=[string1,string2,string3]\n",
    "#fit data using vectorizer, generate indexes for each word and event\n",
    "bag_of_words=vectorizer.fit(email_list) \n",
    "#transform vectorizer, figures counts of each word ocurrence\n",
    "bag_of_words=vectorizer.transform(email_list)\n",
    "print \"bag of words\",bag_of_words\n",
    "\n",
    "\n",
    "#printing vocabulary from the vectorizer index association\n",
    "print vectorizer.vocabulary_.get(\"great\")"
   ]
  }
 ],
 "metadata": {
  "kernelspec": {
   "display_name": "Python 2",
   "language": "python",
   "name": "python2"
  },
  "language_info": {
   "codemirror_mode": {
    "name": "ipython",
    "version": 2
   },
   "file_extension": ".py",
   "mimetype": "text/x-python",
   "name": "python",
   "nbconvert_exporter": "python",
   "pygments_lexer": "ipython2",
   "version": "2.7.15"
  }
 },
 "nbformat": 4,
 "nbformat_minor": 2
}
