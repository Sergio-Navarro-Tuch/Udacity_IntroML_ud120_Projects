{
 "cells": [
  {
   "cell_type": "code",
   "execution_count": 7,
   "metadata": {},
   "outputs": [
    {
     "name": "stdout",
     "output_type": "stream",
     "text": [
      "number of stopwords:  179\n",
      "stemmer responsiveness:  respons\n",
      "stemmer responsivity:  respons\n",
      "stemmer unresponsive:  unrespons\n"
     ]
    }
   ],
   "source": [
    "from nltk.corpus import stopwords\n",
    "sw=stopwords.words(\"english\")\n",
    "\n",
    "print \"number of stopwords: \",len(sw)\n",
    "\n",
    "#stemmer\n",
    "from nltk.stem.snowball import SnowballStemmer\n",
    "stemmer=SnowballStemmer(\"english\")\n",
    "print \"stemmer responsiveness: \",stemmer.stem(\"responsiveness\")\n",
    "print \"stemmer responsivity: \",stemmer.stem(\"responsivity\")\n",
    "print \"stemmer unresponsive: \",stemmer.stem(\"unresponsive\")\n",
    "\n"
   ]
  },
  {
   "cell_type": "markdown",
   "metadata": {},
   "source": [
    "apply stemming before bag of words forr optimal functioning"
   ]
  },
  {
   "cell_type": "code",
   "execution_count": null,
   "metadata": {},
   "outputs": [],
   "source": []
  }
 ],
 "metadata": {
  "kernelspec": {
   "display_name": "Python 2",
   "language": "python",
   "name": "python2"
  },
  "language_info": {
   "codemirror_mode": {
    "name": "ipython",
    "version": 2
   },
   "file_extension": ".py",
   "mimetype": "text/x-python",
   "name": "python",
   "nbconvert_exporter": "python",
   "pygments_lexer": "ipython2",
   "version": "2.7.16"
  }
 },
 "nbformat": 4,
 "nbformat_minor": 2
}
