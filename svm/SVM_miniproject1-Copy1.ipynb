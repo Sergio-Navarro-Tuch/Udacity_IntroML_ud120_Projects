{
 "cells": [
  {
   "cell_type": "code",
   "execution_count": 2,
   "metadata": {},
   "outputs": [
    {
     "name": "stdout",
     "output_type": "stream",
     "text": [
      "no. of Chris training emails: 7936\n",
      "no. of Sara training emails: 7884\n"
     ]
    }
   ],
   "source": [
    "#!/usr/bin/python\n",
    "\n",
    "\"\"\" \n",
    "    This is the code to accompany the Lesson 2 (SVM) mini-project.\n",
    "\n",
    "    Use a SVM to identify emails from the Enron corpus by their authors:    \n",
    "    Sara has label 0\n",
    "    Chris has label 1\n",
    "\"\"\"\n",
    "    \n",
    "import sys\n",
    "from time import time\n",
    "sys.path.append(\"../tools/\")\n",
    "from email_preprocess import preprocess\n",
    "\n",
    "\n",
    "### features_train and features_test are the features for the training\n",
    "### and testing datasets, respectively\n",
    "### labels_train and labels_test are the corresponding item labels\n",
    "features_train, features_test, labels_train, labels_test = preprocess()\n",
    "\n",
    "\n",
    "\n",
    "\n",
    "#########################################################\n",
    "### your code goes here ###\n",
    "from sklearn.svm import SVC\n",
    "clf = SVC(kernel=\"linear\")\n",
    "\n",
    "\n",
    "\n",
    "\n"
   ]
  },
  {
   "cell_type": "code",
   "execution_count": 9,
   "metadata": {},
   "outputs": [
    {
     "name": "stdout",
     "output_type": "stream",
     "text": [
      "training time: 437.02 s\n",
      "predicting time: 47.817 s\n"
     ]
    }
   ],
   "source": [
    "t0 = time()\n",
    "clf.fit(features_train,labels_train)\n",
    "print \"training time:\", round(time()-t0, 3), \"s\"\n",
    "\n",
    "t1 = time()\n",
    "pred=clf.predict(features_test)\n",
    "print \"predicting time:\", round(time()-t1, 3), \"s\"\n"
   ]
  },
  {
   "cell_type": "code",
   "execution_count": 8,
   "metadata": {},
   "outputs": [
    {
     "name": "stdout",
     "output_type": "stream",
     "text": [
      "Accuracy:  0.9840728100113766\n"
     ]
    }
   ],
   "source": [
    "from sklearn.metrics import accuracy_score\n",
    "acc = accuracy_score(labels_test,pred)\n",
    "\n",
    "print \"Accuracy: \", acc\n",
    "#########################################################"
   ]
  },
  {
   "cell_type": "markdown",
   "metadata": {},
   "source": [
    "# training with a part of the dataset"
   ]
  },
  {
   "cell_type": "code",
   "execution_count": 10,
   "metadata": {},
   "outputs": [
    {
     "name": "stdout",
     "output_type": "stream",
     "text": [
      "training time: 0.272 s\n",
      "predicting time: 2.822 s\n",
      "Accuracy:  0.8845278725824801\n"
     ]
    }
   ],
   "source": [
    "features_train2 = features_train[:len(features_train)/100]\n",
    "labels_train2 = labels_train[:len(labels_train)/100]\n",
    "\n",
    "t2 = time()\n",
    "clf.fit(features_train2,labels_train2)\n",
    "print \"training time:\", round(time()-t2, 3), \"s\"\n",
    "\n",
    "t3 = time()\n",
    "pred2=clf.predict(features_test)\n",
    "print \"predicting time:\", round(time()-t3, 3), \"s\"\n",
    "\n",
    "from sklearn.metrics import accuracy_score\n",
    "\n",
    "acc2 = accuracy_score(labels_test,pred2)\n",
    "\n",
    "print \"Accuracy: \", acc2\n",
    "\n",
    "#########################################################\n"
   ]
  },
  {
   "cell_type": "markdown",
   "metadata": {},
   "source": [
    "# training with rbf"
   ]
  },
  {
   "cell_type": "code",
   "execution_count": 14,
   "metadata": {},
   "outputs": [
    {
     "name": "stdout",
     "output_type": "stream",
     "text": [
      "training time: 0.299 s\n",
      "predicting time: 3.179 s\n",
      "Accuracy:  0.6160409556313993\n"
     ]
    }
   ],
   "source": [
    "clf2=SVC(kernel=\"rbf\", gamma=\"auto\")\n",
    "\n",
    "t4 = time()\n",
    "clf2.fit(features_train2,labels_train2)\n",
    "print \"training time:\", round(time()-t4, 3), \"s\"\n",
    "\n",
    "t5 = time()\n",
    "pred3=clf2.predict(features_test)\n",
    "print \"predicting time:\", round(time()-t5, 3), \"s\"\n",
    "\n",
    "from sklearn.metrics import accuracy_score\n",
    "\n",
    "acc3 = accuracy_score(labels_test,pred3)\n",
    "\n",
    "print \"Accuracy: \", acc3\n"
   ]
  },
  {
   "cell_type": "markdown",
   "metadata": {},
   "source": [
    "## Various C"
   ]
  },
  {
   "cell_type": "code",
   "execution_count": 15,
   "metadata": {},
   "outputs": [
    {
     "name": "stdout",
     "output_type": "stream",
     "text": [
      "Accuracy:  0.6160409556313993 C=10\n",
      "Accuracy:  0.6160409556313993 C=100\n",
      "Accuracy:  0.8213879408418657 C=1000\n",
      "Accuracy:  0.8924914675767918 C=10000\n"
     ]
    }
   ],
   "source": [
    "clf3=SVC(kernel=\"rbf\", gamma=\"auto\",C=10)\n",
    "clf3.fit(features_train2,labels_train2)\n",
    "pred4=clf3.predict(features_test)\n",
    "acc4 = accuracy_score(labels_test,pred4)\n",
    "print \"Accuracy: \", acc4,\"C=10\"\n",
    "\n",
    "\n",
    "clf4=SVC(kernel=\"rbf\", gamma=\"auto\",C=100)\n",
    "clf4.fit(features_train2,labels_train2)\n",
    "pred5=clf4.predict(features_test)\n",
    "acc5 = accuracy_score(labels_test,pred5)\n",
    "print \"Accuracy: \", acc5,\"C=100\"\n",
    "\n",
    "\n",
    "clf5=SVC(kernel=\"rbf\", gamma=\"auto\",C=1000)\n",
    "clf5.fit(features_train2,labels_train2)\n",
    "pred6=clf5.predict(features_test)\n",
    "acc6 = accuracy_score(labels_test,pred6)\n",
    "print \"Accuracy: \", acc6,\"C=1000\"\n",
    "\n",
    "\n",
    "clf6=SVC(kernel=\"rbf\", gamma=\"auto\",C=10000)\n",
    "clf6.fit(features_train2,labels_train2)\n",
    "pred7=clf6.predict(features_test)\n",
    "acc7 = accuracy_score(labels_test,pred7)\n",
    "print \"Accuracy: \", acc7,\"C=10000\""
   ]
  },
  {
   "cell_type": "markdown",
   "metadata": {},
   "source": [
    "## full dataset optimized C"
   ]
  },
  {
   "cell_type": "code",
   "execution_count": 16,
   "metadata": {},
   "outputs": [
    {
     "name": "stdout",
     "output_type": "stream",
     "text": [
      "training time: 295.656 s\n",
      "training time: 30.383 s\n",
      "Accuracy:  0.9908987485779295 C=10000\n"
     ]
    }
   ],
   "source": [
    "clf7=SVC(kernel=\"rbf\", gamma=\"auto\",C=10000)\n",
    "\n",
    "t6 = time()\n",
    "clf7.fit(features_train,labels_train)\n",
    "print \"training time:\", round(time()-t6, 3), \"s\"\n",
    "\n",
    "t7 = time()\n",
    "pred8=clf7.predict(features_test)\n",
    "print \"training time:\", round(time()-t7, 3), \"s\"\n",
    "\n",
    "acc8 = accuracy_score(labels_test,pred8)\n",
    "print \"Accuracy: \", acc8,\"C=10000\""
   ]
  },
  {
   "cell_type": "code",
   "execution_count": 17,
   "metadata": {},
   "outputs": [
    {
     "name": "stdout",
     "output_type": "stream",
     "text": [
      "prediction 10:  1\n",
      "prediction 26:  0\n",
      "prediction 50:  1\n"
     ]
    }
   ],
   "source": [
    "answer10=pred8[10]\n",
    "print \"prediction 10: \",answer10\n",
    "answer26=pred8[26]\n",
    "print \"prediction 26: \",answer26\n",
    "answer50=pred8[50]\n",
    "print \"prediction 50: \",answer50\n"
   ]
  },
  {
   "cell_type": "markdown",
   "metadata": {},
   "source": [
    "## Counting predictions "
   ]
  },
  {
   "cell_type": "code",
   "execution_count": 19,
   "metadata": {},
   "outputs": [
    {
     "name": "stdout",
     "output_type": "stream",
     "text": [
      "number of elements:  1758\n",
      "Chris predicted mails:  877\n",
      "Sara predicted mails:  881\n"
     ]
    }
   ],
   "source": [
    "lenght=len(pred8)\n",
    "print \"number of elements: \", lenght\n",
    "\n",
    "i=0\n",
    "Chris=0\n",
    "Sara=0\n",
    "for i in range(lenght):\n",
    "    if pred8[i]==1:\n",
    "        Chris=Chris+1\n",
    "    else:\n",
    "        Sara=Sara+1\n",
    "print \"Chris predicted mails: \", Chris\n",
    "print \"Sara predicted mails: \", Sara    \n",
    "    "
   ]
  },
  {
   "cell_type": "code",
   "execution_count": null,
   "metadata": {},
   "outputs": [],
   "source": []
  }
 ],
 "metadata": {
  "kernelspec": {
   "display_name": "Python 2",
   "language": "python",
   "name": "python2"
  },
  "language_info": {
   "codemirror_mode": {
    "name": "ipython",
    "version": 2
   },
   "file_extension": ".py",
   "mimetype": "text/x-python",
   "name": "python",
   "nbconvert_exporter": "python",
   "pygments_lexer": "ipython2",
   "version": "2.7.16"
  }
 },
 "nbformat": 4,
 "nbformat_minor": 2
}
