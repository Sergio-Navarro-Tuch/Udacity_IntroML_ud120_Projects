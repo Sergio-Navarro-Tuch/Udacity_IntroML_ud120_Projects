{
 "cells": [
  {
   "cell_type": "code",
   "execution_count": 2,
   "metadata": {},
   "outputs": [
    {
     "name": "stdout",
     "output_type": "stream",
     "text": [
      "prescaled data:  [[115.]\n",
      " [140.]\n",
      " [175.]]\n",
      "rescaled data:  [[0.        ]\n",
      " [0.41666667]\n",
      " [1.        ]]\n"
     ]
    }
   ],
   "source": [
    "from sklearn.preprocessing import MinMaxScaler\n",
    "import numpy \n",
    "\n",
    "weights=numpy.array([[115.],[140.],[175.]])\n",
    "scaler=MinMaxScaler()\n",
    "rescaled_weight=scaler.fit_transform(weights)\n",
    "\n",
    "print \"prescaled data: \", weights\n",
    "print \"rescaled data: \", rescaled_weight"
   ]
  }
 ],
 "metadata": {
  "kernelspec": {
   "display_name": "Python 2",
   "language": "python",
   "name": "python2"
  },
  "language_info": {
   "codemirror_mode": {
    "name": "ipython",
    "version": 2
   },
   "file_extension": ".py",
   "mimetype": "text/x-python",
   "name": "python",
   "nbconvert_exporter": "python",
   "pygments_lexer": "ipython2",
   "version": "2.7.15"
  }
 },
 "nbformat": 4,
 "nbformat_minor": 2
}
