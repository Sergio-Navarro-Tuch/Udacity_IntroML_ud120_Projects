{
 "cells": [
  {
   "cell_type": "code",
   "execution_count": 2,
   "metadata": {},
   "outputs": [
    {
     "name": "stdout",
     "output_type": "stream",
     "text": [
      "[0.0, 0.4166666666666667, 1.0]\n"
     ]
    }
   ],
   "source": [
    "\"\"\" quiz materials for feature scaling clustering \"\"\"\n",
    "from __future__  import division\n",
    "import math\n",
    "import numpy\n",
    "\n",
    "\n",
    "### FYI, the most straightforward implementation might \n",
    "### throw a divide-by-zero error, if the min and max\n",
    "### values are the same\n",
    "### but think about this for a second--that means that every\n",
    "### data point has the same value for that feature!  \n",
    "### why would you rescale it?  Or even use it at all?\n",
    "\n",
    "\n",
    "def featureScaling(arr):\n",
    "    data=arr\n",
    "    max_val=max(arr)\n",
    "    min_val=min(arr)\n",
    "    if max_val!=min_val:\n",
    "        for i in range(len(arr)):\n",
    "            data[i]=(arr[i]-min_val)/(max_val-min_val)\n",
    "    return data\n",
    "\n",
    "# tests of your feature scaler--line below is input data\n",
    "data = [115, 140, 175]\n",
    "print featureScaling(data)\n",
    "\n"
   ]
  },
  {
   "cell_type": "code",
   "execution_count": null,
   "metadata": {},
   "outputs": [],
   "source": []
  },
  {
   "cell_type": "code",
   "execution_count": null,
   "metadata": {},
   "outputs": [],
   "source": []
  }
 ],
 "metadata": {
  "kernelspec": {
   "display_name": "Python 2",
   "language": "python",
   "name": "python2"
  },
  "language_info": {
   "codemirror_mode": {
    "name": "ipython",
    "version": 2
   },
   "file_extension": ".py",
   "mimetype": "text/x-python",
   "name": "python",
   "nbconvert_exporter": "python",
   "pygments_lexer": "ipython2",
   "version": "2.7.15"
  }
 },
 "nbformat": 4,
 "nbformat_minor": 2
}
