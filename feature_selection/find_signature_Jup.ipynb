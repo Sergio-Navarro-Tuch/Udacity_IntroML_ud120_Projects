{
 "cells": [
  {
   "cell_type": "code",
   "execution_count": 3,
   "metadata": {
    "scrolled": false
   },
   "outputs": [
    {
     "name": "stdout",
     "output_type": "stream",
     "text": [
      "training time: 0.094 s\n",
      "predicting time: 0.268 s\n",
      "accuarcy= 0.8168373151308305\n",
      "number of features: 37861\n",
      "max feature value:  0.36363636363636365\n",
      "index max feature value (array([21323], dtype=int64),)\n",
      "List of indexes of max features:  [21323]\n",
      "unique words:  37861\n",
      "signature word houectect\n"
     ]
    }
   ],
   "source": [
    "#!/usr/bin/python\n",
    "from time import time\n",
    "import pickle\n",
    "import numpy\n",
    "numpy.random.seed(42)\n",
    "\n",
    "\n",
    "### The words (features) and authors (labels), already largely processed.\n",
    "### These files should have been created from the previous (Lesson 10)\n",
    "### mini-project.\n",
    "words_file = \"../text_learning/your_word_data.pkl\" \n",
    "authors_file = \"../text_learning/your_email_authors.pkl\"\n",
    "word_data = pickle.load( open(words_file, \"r\"))\n",
    "authors = pickle.load( open(authors_file, \"r\") )\n",
    "\n",
    "\n",
    "\n",
    "### test_size is the percentage of events assigned to the test set (the\n",
    "### remainder go into training)\n",
    "### feature matrices changed to dense representations for compatibility with\n",
    "### classifier functions in versions 0.15.2 and earlier\n",
    "from sklearn import model_selection\n",
    "from sklearn.model_selection import cross_validate\n",
    "features_train, features_test, labels_train, labels_test = model_selection.train_test_split(word_data, authors, test_size=0.1, random_state=42)\n",
    "\n",
    "from sklearn.feature_extraction.text import TfidfVectorizer\n",
    "vectorizer = TfidfVectorizer(sublinear_tf=True, max_df=0.5,\n",
    "                             stop_words='english')\n",
    "features_train = vectorizer.fit_transform(features_train)\n",
    "features_test  = vectorizer.transform(features_test).toarray()\n",
    "go=vectorizer.get_feature_names()\n",
    "\n",
    "\n",
    "### a classic way to overfit is to use a small number\n",
    "### of data points and a large number of features;\n",
    "### train on only 150 events to put ourselves in this regime\n",
    "features_train = features_train[:150].toarray()\n",
    "labels_train   = labels_train[:150]\n",
    "\n",
    "\n",
    "\n",
    "### your code goes here\n",
    "from sklearn import tree\n",
    "clf = tree.DecisionTreeClassifier()  #min_samples_split=40\n",
    "\n",
    "t0 = time()\n",
    "clf = clf.fit(features_train,labels_train)\n",
    "print \"training time:\", round(time()-t0, 3), \"s\"\n",
    "\n",
    "t1 = time()\n",
    "pred=clf.predict(features_test)\n",
    "print \"predicting time:\", round(time()-t1, 3), \"s\"\n",
    "\n",
    "from sklearn.metrics import accuracy_score\n",
    "acc =accuracy_score(pred, labels_test)\n",
    "\n",
    "print \"accuarcy=\",acc\n",
    "print \"number of features:\",len(features_train[0])\n",
    "\n",
    "importances=clf.feature_importances_ \n",
    "count=0\n",
    "max_feat_val=max(importances)\n",
    "print \"max feature value: \",max_feat_val\n",
    "print \"index max feature value\", numpy.where(importances==max_feat_val)\n",
    "\n",
    "res_list = [] \n",
    "for i in range(len(importances)) : \n",
    "    if importances[i] == max_feat_val : \n",
    "        res_list.append(i) \n",
    "print \"List of indexes of max features: \", res_list     \n",
    "\n",
    "\n",
    "print \"unique words: \", len(go)\n",
    "\n",
    "print \"signature word\", go[res_list[0]]\n",
    "\n"
   ]
  },
  {
   "cell_type": "code",
   "execution_count": null,
   "metadata": {},
   "outputs": [],
   "source": []
  },
  {
   "cell_type": "code",
   "execution_count": null,
   "metadata": {},
   "outputs": [],
   "source": []
  }
 ],
 "metadata": {
  "kernelspec": {
   "display_name": "Python 2",
   "language": "python",
   "name": "python2"
  },
  "language_info": {
   "codemirror_mode": {
    "name": "ipython",
    "version": 2
   },
   "file_extension": ".py",
   "mimetype": "text/x-python",
   "name": "python",
   "nbconvert_exporter": "python",
   "pygments_lexer": "ipython2",
   "version": "2.7.16"
  }
 },
 "nbformat": 4,
 "nbformat_minor": 2
}
