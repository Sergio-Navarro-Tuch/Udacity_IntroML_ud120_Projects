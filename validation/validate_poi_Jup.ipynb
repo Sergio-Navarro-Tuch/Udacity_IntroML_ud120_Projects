{
 "cells": [
  {
   "cell_type": "code",
   "execution_count": null,
   "metadata": {},
   "outputs": [],
   "source": [
    "#!/usr/bin/python\n",
    "\n",
    "\n",
    "\"\"\"\n",
    "    Starter code for the validation mini-project.\n",
    "    The first step toward building your POI identifier!\n",
    "\n",
    "    Start by loading/formatting the data\n",
    "\n",
    "    After that, it's not our code anymore--it's yours!\n",
    "\"\"\"\n",
    "\n",
    "import pickle\n",
    "import sys\n",
    "sys.path.append(\"../tools/\")\n",
    "from feature_format import featureFormat, targetFeatureSplit\n",
    "from time import time\n",
    "\n",
    "data_dict = pickle.load(open(\"../final_project/final_project_dataset.pkl\", \"r\") )\n",
    "\n",
    "### first element is our labels, any added elements are predictor\n",
    "### features. Keep this the same for the mini-project, but you'll\n",
    "### have a different feature list when you do the final project.\n",
    "features_list = [\"poi\", \"salary\"]\n",
    "\n",
    "data = featureFormat(data_dict, features_list)\n",
    "labels, features = targetFeatureSplit(data)\n",
    "\n",
    "\n",
    "\n",
    "### it's all yours from here forward!  \n",
    "from sklearn import tree\n",
    "clf = tree.DecisionTreeClassifier()  #min_samples_split=40\n",
    "\n",
    "t0 = time()\n",
    "clf = clf.fit(features,labels)\n",
    "print \"training time:\", round(time()-t0, 3), \"s\"\n",
    "\n",
    "t1 = time()\n",
    "pred=clf.predict(features)\n",
    "print \"predicting time:\", round(time()-t1, 3), \"s\"\n",
    "\n",
    "from sklearn.metrics import accuracy_score\n",
    "acc =accuracy_score(pred, labels)\n",
    "\n",
    "print \"accuarcy=\",acc\n",
    "print \"number of features:\",len(features[0])\n",
    "#########################################################\n",
    "\n"
   ]
  },
  {
   "cell_type": "markdown",
   "metadata": {},
   "source": [
    "## train test splitting"
   ]
  },
  {
   "cell_type": "code",
   "execution_count": 1,
   "metadata": {},
   "outputs": [
    {
     "name": "stdout",
     "output_type": "stream",
     "text": [
      "training time: 0.005 s\n",
      "predicting time: 0.005 s\n",
      "accuarcy= 0.7241379310344828\n",
      "number of features: 1\n"
     ]
    }
   ],
   "source": [
    "#!/usr/bin/python\n",
    "\n",
    "\n",
    "\"\"\"\n",
    "    Starter code for the validation mini-project.\n",
    "    The first step toward building your POI identifier!\n",
    "\n",
    "    Start by loading/formatting the data\n",
    "\n",
    "    After that, it's not our code anymore--it's yours!\n",
    "\"\"\"\n",
    "\n",
    "import pickle\n",
    "import sys\n",
    "sys.path.append(\"../tools/\")\n",
    "from feature_format import featureFormat, targetFeatureSplit\n",
    "from sklearn.model_selection import train_test_split\n",
    "from time import time\n",
    "\n",
    "data_dict = pickle.load(open(\"../final_project/final_project_dataset.pkl\", \"r\") )\n",
    "\n",
    "### first element is our labels, any added elements are predictor\n",
    "### features. Keep this the same for the mini-project, but you'll\n",
    "### have a different feature list when you do the final project.\n",
    "features_list = [\"poi\", \"salary\"]\n",
    "\n",
    "data = featureFormat(data_dict, features_list)\n",
    "labels, features = targetFeatureSplit(data)\n",
    "\n",
    "features_train, features_test, labels_train, labels_test = train_test_split(features,labels, test_size=0.30, random_state=42)\n",
    "\n",
    "\n",
    "### it's all yours from here forward!  \n",
    "from sklearn import tree\n",
    "clf = tree.DecisionTreeClassifier()\n",
    "\n",
    "t0 = time()\n",
    "clf = clf.fit(features_train,labels_train)\n",
    "print \"training time:\", round(time()-t0, 3), \"s\"\n",
    "\n",
    "t1 = time()\n",
    "pred=clf.predict(features_test)\n",
    "print \"predicting time:\", round(time()-t1, 3), \"s\"\n",
    "\n",
    "from sklearn.metrics import accuracy_score\n",
    "acc =accuracy_score(pred, labels_test)\n",
    "\n",
    "print \"accuarcy=\",acc\n",
    "print \"number of features:\",len(features_train[0])\n",
    "#########################################################\n",
    "\n"
   ]
  },
  {
   "cell_type": "markdown",
   "metadata": {},
   "source": [
    "## People and pois counters for test set"
   ]
  },
  {
   "cell_type": "code",
   "execution_count": 3,
   "metadata": {},
   "outputs": [
    {
     "name": "stdout",
     "output_type": "stream",
     "text": [
      "Number of predicted POIs 4\n",
      "number of people in test set 29\n"
     ]
    }
   ],
   "source": [
    "countPOI=0\n",
    "for i in range(len(pred)):\n",
    "    if pred[i]==1:\n",
    "        countPOI+=1\n",
    "        \n",
    "print \"Number of predicted POIs\", countPOI\n",
    "print \"number of people in test set\", len(pred)"
   ]
  },
  {
   "cell_type": "markdown",
   "metadata": {},
   "source": [
    "## True positives counting"
   ]
  },
  {
   "cell_type": "code",
   "execution_count": 5,
   "metadata": {},
   "outputs": [
    {
     "name": "stdout",
     "output_type": "stream",
     "text": [
      "Number of True positives:  0\n",
      "Number of False positives:  4\n",
      "Number of True Negatives:  21\n",
      "Number of False Negatives:  4\n"
     ]
    }
   ],
   "source": [
    "CountTP=0\n",
    "CountFP=0\n",
    "CountTN=0\n",
    "CountFN=0\n",
    "for i in range(len(pred)):\n",
    "    if pred[i]==1 and labels_test[i]==1:\n",
    "        CountTP+=1\n",
    "    elif pred[i]==1 and labels_test[i]==0:\n",
    "        CountFP+=1\n",
    "    elif pred[i]==0 and labels_test[i]==1:\n",
    "        CountFN+=1\n",
    "    elif pred[i]==0 and labels_test[i]==0:\n",
    "        CountTN+=1\n",
    "print \"Number of True positives: \", CountTP\n",
    "print \"Number of False positives: \", CountFP\n",
    "print \"Number of True Negatives: \", CountTN\n",
    "print \"Number of False Negatives: \", CountFN"
   ]
  },
  {
   "cell_type": "markdown",
   "metadata": {},
   "source": [
    "## Sklearn metrics implementation"
   ]
  },
  {
   "cell_type": "code",
   "execution_count": 6,
   "metadata": {},
   "outputs": [
    {
     "name": "stdout",
     "output_type": "stream",
     "text": [
      "Default precision score 0.0\n",
      "Default recall score 0.0\n"
     ]
    }
   ],
   "source": [
    "from sklearn.metrics import precision_score,recall_score\n",
    "precisionSK=precision_score(labels_test,pred)\n",
    "print \"Default precision score\", precisionSK\n",
    "recallSK=recall_score(labels_test,pred)\n",
    "print \"Default recall score\", recallSK"
   ]
  }
 ],
 "metadata": {
  "kernelspec": {
   "display_name": "Python 2",
   "language": "python",
   "name": "python2"
  },
  "language_info": {
   "codemirror_mode": {
    "name": "ipython",
    "version": 2
   },
   "file_extension": ".py",
   "mimetype": "text/x-python",
   "name": "python",
   "nbconvert_exporter": "python",
   "pygments_lexer": "ipython2",
   "version": "2.7.16"
  }
 },
 "nbformat": 4,
 "nbformat_minor": 2
}
