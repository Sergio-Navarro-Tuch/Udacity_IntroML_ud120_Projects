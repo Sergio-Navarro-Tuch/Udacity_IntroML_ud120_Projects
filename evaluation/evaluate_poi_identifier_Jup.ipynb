{
 "cells": [
  {
   "cell_type": "code",
   "execution_count": 6,
   "metadata": {},
   "outputs": [
    {
     "name": "stdout",
     "output_type": "stream",
     "text": [
      "training time: 0.001 s\n",
      "predicting time: 0.006 s\n",
      "accuarcy= 0.9894736842105263\n",
      "number of features: 1\n",
      "NUmber of predicted POIs 16\n"
     ]
    }
   ],
   "source": [
    "#!/usr/bin/python\n",
    "\n",
    "\n",
    "\"\"\"\n",
    "    Starter code for the evaluation mini-project.\n",
    "    Start by copying your trained/tested POI identifier from\n",
    "    that which you built in the validation mini-project.\n",
    "\n",
    "    This is the second step toward building your POI identifier!\n",
    "\n",
    "    Start by loading/formatting the data...\n",
    "\"\"\"\n",
    "\n",
    "import pickle\n",
    "import sys\n",
    "sys.path.append(\"../tools/\")\n",
    "from feature_format import featureFormat, targetFeatureSplit\n",
    "from sklearn.model_selection import train_test_split\n",
    "from time import time\n",
    "\n",
    "data_dict = pickle.load(open(\"../final_project/final_project_dataset.pkl\", \"r\") )\n",
    "\n",
    "### add more features to features_list!\n",
    "features_list = [\"poi\", \"salary\"]\n",
    "\n",
    "data = featureFormat(data_dict, features_list)\n",
    "labels, features = targetFeatureSplit(data)\n",
    "\n",
    "\n",
    "\n",
    "### your code goes here \n",
    "from sklearn import tree\n",
    "clf = tree.DecisionTreeClassifier()\n",
    "\n",
    "t0 = time()\n",
    "clf = clf.fit(features,labels)\n",
    "print \"training time:\", round(time()-t0, 3), \"s\"\n",
    "\n",
    "t1 = time()\n",
    "pred=clf.predict(features)\n",
    "print \"predicting time:\", round(time()-t1, 3), \"s\"\n",
    "\n",
    "from sklearn.metrics import accuracy_score\n",
    "acc =accuracy_score(pred, labels)\n",
    "\n",
    "print \"accuarcy=\",acc\n",
    "print \"number of features:\",len(features[0])\n",
    "\n",
    "countPOI=0\n",
    "for i in range(len(pred)):\n",
    "    if pred[i]==1:\n",
    "        countPOI+=1\n",
    "        \n",
    "print \"NUmber of predicted POIs\", countPOI"
   ]
  },
  {
   "cell_type": "markdown",
   "metadata": {},
   "source": [
    "## quizz 34 with pred and true labels"
   ]
  },
  {
   "cell_type": "code",
   "execution_count": 8,
   "metadata": {},
   "outputs": [
    {
     "name": "stdout",
     "output_type": "stream",
     "text": [
      "Number of True positives:  6\n",
      "Number of False positives:  3\n",
      "Number of True Negatives:  9\n",
      "Number of False Negatives:  2\n",
      "Default precision score 0.6666666666666666\n",
      "Default recall score 0.75\n"
     ]
    }
   ],
   "source": [
    "predictions = [0, 1, 1, 0, 0, 0, 1, 0, 1, 0, 0, 1, 0, 0, 1, 1, 0, 1, 0, 1]\n",
    "true_labels = [0, 0, 0, 0, 0, 0, 1, 0, 1, 1, 0, 1, 0, 1, 1, 1, 0, 1, 0, 0]\n",
    "\n",
    "CountTP=0\n",
    "CountFP=0\n",
    "CountTN=0\n",
    "CountFN=0\n",
    "for i in range(len(predictions)):\n",
    "    if predictions[i]==1 and true_labels[i]==1:\n",
    "        CountTP+=1\n",
    "    elif predictions[i]==1 and true_labels[i]==0:\n",
    "        CountFP+=1\n",
    "    elif predictions[i]==0 and true_labels[i]==1:\n",
    "        CountFN+=1\n",
    "    elif predictions[i]==0 and true_labels[i]==0:\n",
    "        CountTN+=1\n",
    "print \"Number of True positives: \", CountTP\n",
    "print \"Number of False positives: \", CountFP\n",
    "print \"Number of True Negatives: \", CountTN\n",
    "print \"Number of False Negatives: \", CountFN\n",
    "\n",
    "from sklearn.metrics import precision_score,recall_score\n",
    "precisionSK=precision_score(true_labels,predictions)\n",
    "print \"Default precision score\", precisionSK\n",
    "recallSK=recall_score(true_labels,predictions)\n",
    "print \"Default recall score\", recallSK"
   ]
  },
  {
   "cell_type": "markdown",
   "metadata": {},
   "source": []
  },
  {
   "cell_type": "code",
   "execution_count": null,
   "metadata": {},
   "outputs": [],
   "source": []
  }
 ],
 "metadata": {
  "kernelspec": {
   "display_name": "Python 2",
   "language": "python",
   "name": "python2"
  },
  "language_info": {
   "codemirror_mode": {
    "name": "ipython",
    "version": 2
   },
   "file_extension": ".py",
   "mimetype": "text/x-python",
   "name": "python",
   "nbconvert_exporter": "python",
   "pygments_lexer": "ipython2",
   "version": "2.7.16"
  }
 },
 "nbformat": 4,
 "nbformat_minor": 2
}
