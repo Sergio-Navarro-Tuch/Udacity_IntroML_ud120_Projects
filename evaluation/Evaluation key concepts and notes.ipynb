{
 "cells": [
  {
   "cell_type": "markdown",
   "metadata": {},
   "source": [
    "# Key concepts for evaluation"
   ]
  },
  {
   "cell_type": "markdown",
   "metadata": {},
   "source": [
    "Accuarcy.- depends on correct classifications\n",
    "Confusion Matrix .- counts and correlates predictions made with true classifications (True positives, false positives, false negatives, true negatives:\n",
    "\n",
    "Recall.- true positives/(true positives+ false negatives)\n",
    "Precision.- true positives/(true positives+ false positives)"
   ]
  },
  {
   "cell_type": "code",
   "execution_count": null,
   "metadata": {},
   "outputs": [],
   "source": []
  }
 ],
 "metadata": {
  "kernelspec": {
   "display_name": "Python 2",
   "language": "python",
   "name": "python2"
  },
  "language_info": {
   "codemirror_mode": {
    "name": "ipython",
    "version": 2
   },
   "file_extension": ".py",
   "mimetype": "text/x-python",
   "name": "python",
   "nbconvert_exporter": "python",
   "pygments_lexer": "ipython2",
   "version": "2.7.16"
  }
 },
 "nbformat": 4,
 "nbformat_minor": 2
}
